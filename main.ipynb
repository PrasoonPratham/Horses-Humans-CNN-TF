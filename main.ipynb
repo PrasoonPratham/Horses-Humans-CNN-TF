{
 "cells": [
  {
   "cell_type": "code",
   "execution_count": 1,
   "metadata": {},
   "outputs": [],
   "source": [
    "# Importing the libraries\n",
    "import urllib.request\n",
    "import zipfile"
   ]
  },
  {
   "cell_type": "code",
   "execution_count": 2,
   "metadata": {},
   "outputs": [
    {
     "data": {
      "text/plain": [
       "('data.zip', <http.client.HTTPMessage at 0x1049a5430>)"
      ]
     },
     "execution_count": 2,
     "metadata": {},
     "output_type": "execute_result"
    }
   ],
   "source": [
    "# Details\n",
    "url = 'https://storage.googleapis.com/laurencemoroney-blog.appspot.com/horse-or-human.zip'\n",
    "name = 'data.zip'\n",
    "train_dir = 'data/train/'\n",
    "urllib.request.urlretrieve(url, name)"
   ]
  },
  {
   "cell_type": "code",
   "execution_count": null,
   "metadata": {},
   "outputs": [],
   "source": [
    "# Unzipping\n",
    "zipped = zipfile.ZipFile(name, 'r')\n",
    "zipped.extractall(train_dir)\n",
    "zipped.close()"
   ]
  }
 ],
 "metadata": {
  "interpreter": {
   "hash": "326012475e3b207bfe43a178e06d3534477db45228184ee49f03c9b3d2f59f0f"
  },
  "kernelspec": {
   "display_name": "Python 3.9.0 ('tf')",
   "language": "python",
   "name": "python3"
  },
  "language_info": {
   "codemirror_mode": {
    "name": "ipython",
    "version": 3
   },
   "file_extension": ".py",
   "mimetype": "text/x-python",
   "name": "python",
   "nbconvert_exporter": "python",
   "pygments_lexer": "ipython3",
   "version": "3.9.0"
  },
  "orig_nbformat": 4
 },
 "nbformat": 4,
 "nbformat_minor": 2
}
